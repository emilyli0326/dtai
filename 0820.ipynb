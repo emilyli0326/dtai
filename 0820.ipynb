{
 "cells": [
  {
   "cell_type": "code",
   "execution_count": 8,
   "metadata": {},
   "outputs": [
    {
     "name": "stdout",
     "output_type": "stream",
     "text": [
      "[0, 1, 2, 3, 4]\n"
     ]
    }
   ],
   "source": [
    "a=range(5)\n",
    "print(list(a))"
   ]
  },
  {
   "cell_type": "code",
   "execution_count": 9,
   "metadata": {},
   "outputs": [
    {
     "name": "stdout",
     "output_type": "stream",
     "text": [
      "[1, 2, 3, 4]\n"
     ]
    }
   ],
   "source": [
    "a=range(1,5)\n",
    "print(list(a))"
   ]
  },
  {
   "cell_type": "code",
   "execution_count": 10,
   "metadata": {},
   "outputs": [
    {
     "name": "stdout",
     "output_type": "stream",
     "text": [
      "[1, 3, 5, 7, 9]\n"
     ]
    }
   ],
   "source": [
    "a=range(1,10,2)\n",
    "print(list(a))"
   ]
  },
  {
   "cell_type": "code",
   "execution_count": null,
   "metadata": {},
   "outputs": [
    {
     "name": "stdout",
     "output_type": "stream",
     "text": [
      "[1, 2, 3, 4, 5]\n"
     ]
    }
   ],
   "source": [
    "list1=[1,2,3,4,5]\n",
    "print(list1)"
   ]
  },
  {
   "cell_type": "code",
   "execution_count": null,
   "metadata": {},
   "outputs": [
    {
     "name": "stdout",
     "output_type": "stream",
     "text": [
      "['香蕉', '蘋果', '橘子']\n"
     ]
    }
   ],
   "source": [
    "list2=[\"香蕉\",\"蘋果\",\"橘子\"]\n",
    "print(list2)"
   ]
  },
  {
   "cell_type": "code",
   "execution_count": null,
   "metadata": {},
   "outputs": [
    {
     "name": "stdout",
     "output_type": "stream",
     "text": [
      "[1, '蘋果', 'true']\n"
     ]
    }
   ],
   "source": [
    "list3=[1,\"蘋果\",\"true\"]\n",
    "print(list3)"
   ]
  },
  {
   "cell_type": "code",
   "execution_count": null,
   "metadata": {},
   "outputs": [
    {
     "name": "stdout",
     "output_type": "stream",
     "text": [
      "1\n"
     ]
    }
   ],
   "source": [
    "print(list1[0])"
   ]
  },
  {
   "cell_type": "code",
   "execution_count": null,
   "metadata": {},
   "outputs": [
    {
     "name": "stdout",
     "output_type": "stream",
     "text": [
      "蘋果\n"
     ]
    }
   ],
   "source": [
    "print(list2[1])"
   ]
  },
  {
   "cell_type": "code",
   "execution_count": null,
   "metadata": {},
   "outputs": [
    {
     "name": "stdout",
     "output_type": "stream",
     "text": [
      "5\n"
     ]
    }
   ],
   "source": [
    "print(list1[3])"
   ]
  },
  {
   "cell_type": "code",
   "execution_count": null,
   "metadata": {},
   "outputs": [
    {
     "name": "stdout",
     "output_type": "stream",
     "text": [
      "香蕉\n",
      "蘋果\n",
      "橘子\n"
     ]
    }
   ],
   "source": [
    "print(list2[0])\n",
    "print(list2[1])\n",
    "print(list2[2])"
   ]
  },
  {
   "cell_type": "code",
   "execution_count": null,
   "metadata": {},
   "outputs": [
    {
     "name": "stdout",
     "output_type": "stream",
     "text": [
      "橘子\n",
      "蘋果\n",
      "香蕉\n"
     ]
    }
   ],
   "source": [
    "print(list2[-1])\n",
    "print(list2[-2])\n",
    "print(list2[-3])"
   ]
  },
  {
   "cell_type": "code",
   "execution_count": null,
   "metadata": {},
   "outputs": [
    {
     "name": "stdout",
     "output_type": "stream",
     "text": [
      "['mary', 'abcd']\n",
      "[['tom', '1234']]\n",
      "['david', 5678]\n",
      "['tom', '1234']\n",
      "mary\n",
      "abcd\n"
     ]
    }
   ],
   "source": [
    "list5=[[\"tom\",\"1234\"]],[\"mary\",\"abcd\"],[\"david\",5678]\n",
    "print(list5[1])\n",
    "print(list5[0])\n",
    "print(list5[2])\n",
    "print(list5[0][0])\n",
    "print(list5[1][0])\n",
    "print(list5[1][1])"
   ]
  },
  {
   "cell_type": "code",
   "execution_count": null,
   "metadata": {},
   "outputs": [
    {
     "name": "stdout",
     "output_type": "stream",
     "text": [
      "國文成績:78\n",
      "數學成績:45\n",
      "英文成績:49\n"
     ]
    }
   ],
   "source": [
    "a,b,c=map(int,input().split())\n",
    "d='國文成績:{}\\n數學成績:{}\\n英文成績:{}'\n",
    "e=d.format(a,b,c)\n",
    "print(e)"
   ]
  },
  {
   "cell_type": "code",
   "execution_count": null,
   "metadata": {},
   "outputs": [
    {
     "name": "stdout",
     "output_type": "stream",
     "text": [
      "香蕉,蘋果,橘子,"
     ]
    }
   ],
   "source": [
    "list2=[\"香蕉\",\"蘋果\",\"橘子\"]\n",
    "for i in list2:\n",
    "    print(i,end=\",\")"
   ]
  },
  {
   "cell_type": "code",
   "execution_count": null,
   "metadata": {},
   "outputs": [
    {
     "name": "stdout",
     "output_type": "stream",
     "text": [
      "123\n",
      "apple\n",
      "true\n"
     ]
    }
   ],
   "source": [
    "list2=[123,\"apple\",\"true\"]\n",
    "for i in list2:\n",
    "    print(i,end=\"\\n\")"
   ]
  },
  {
   "cell_type": "code",
   "execution_count": null,
   "metadata": {},
   "outputs": [
    {
     "name": "stdout",
     "output_type": "stream",
     "text": [
      "0\n",
      "1\n",
      "2\n"
     ]
    }
   ],
   "source": [
    "scores=[75,78,49]\n",
    "for i in range(len(scores)):\n",
    "    print(i)"
   ]
  },
  {
   "cell_type": "code",
   "execution_count": 11,
   "metadata": {},
   "outputs": [
    {
     "ename": "TypeError",
     "evalue": "'list' object cannot be interpreted as an integer",
     "output_type": "error",
     "traceback": [
      "\u001b[1;31m---------------------------------------------------------------------------\u001b[0m",
      "\u001b[1;31mTypeError\u001b[0m                                 Traceback (most recent call last)",
      "Cell \u001b[1;32mIn[11], line 2\u001b[0m\n\u001b[0;32m      1\u001b[0m scores\u001b[38;5;241m=\u001b[39m[\u001b[38;5;241m85\u001b[39m,\u001b[38;5;241m79\u001b[39m,\u001b[38;5;241m93\u001b[39m]\n\u001b[1;32m----> 2\u001b[0m \u001b[38;5;28;01mfor\u001b[39;00m i \u001b[38;5;129;01min\u001b[39;00m \u001b[38;5;28;43mrange\u001b[39;49m\u001b[43m(\u001b[49m\u001b[43mscores\u001b[49m\u001b[43m)\u001b[49m:\n\u001b[0;32m      3\u001b[0m     \u001b[38;5;28mprint\u001b[39m(i)\n",
      "\u001b[1;31mTypeError\u001b[0m: 'list' object cannot be interpreted as an integer"
     ]
    }
   ],
   "source": [
    "scores=[85,79,93]\n",
    "for i in range(scores):\n",
    "    print(i)"
   ]
  },
  {
   "cell_type": "code",
   "execution_count": null,
   "metadata": {},
   "outputs": [
    {
     "name": "stdout",
     "output_type": "stream",
     "text": [
      "['4', '5']\n"
     ]
    }
   ],
   "source": [
    "list1=input().split()\n",
    "a=\"{}\"\n",
    "b=a.format(list1)\n",
    "print(b)\n"
   ]
  },
  {
   "cell_type": "code",
   "execution_count": null,
   "metadata": {},
   "outputs": [
    {
     "name": "stdout",
     "output_type": "stream",
     "text": [
      "8\n"
     ]
    }
   ],
   "source": [
    "list1=input().split()\n",
    "a='{}'\n",
    "b=a.format(list1[-1])\n",
    "print(b)"
   ]
  },
  {
   "cell_type": "code",
   "execution_count": null,
   "metadata": {},
   "outputs": [
    {
     "name": "stdout",
     "output_type": "stream",
     "text": [
      "3 5 7\n"
     ]
    }
   ],
   "source": [
    "c,d,e=input().split()\n",
    "a=\"{} {} {}\"\n",
    "b=a.format(e,d,c)\n",
    "print(b)"
   ]
  },
  {
   "cell_type": "code",
   "execution_count": null,
   "metadata": {},
   "outputs": [],
   "source": []
  },
  {
   "cell_type": "code",
   "execution_count": null,
   "metadata": {},
   "outputs": [
    {
     "ename": "TypeError",
     "evalue": "'list' object is not callable",
     "output_type": "error",
     "traceback": [
      "\u001b[1;31m---------------------------------------------------------------------------\u001b[0m",
      "\u001b[1;31mTypeError\u001b[0m                                 Traceback (most recent call last)",
      "Cell \u001b[1;32mIn[106], line 3\u001b[0m\n\u001b[0;32m      1\u001b[0m a,b,c\u001b[38;5;241m=\u001b[39m\u001b[38;5;28mmap\u001b[39m(\u001b[38;5;28mint\u001b[39m,\u001b[38;5;28minput\u001b[39m()\u001b[38;5;241m.\u001b[39msplit())\n\u001b[0;32m      2\u001b[0m \u001b[38;5;28;01mfor\u001b[39;00m i \u001b[38;5;129;01min\u001b[39;00m \u001b[38;5;28mrange\u001b[39m(a,b,c):\n\u001b[1;32m----> 3\u001b[0m     e\u001b[38;5;241m=\u001b[39m\u001b[38;5;28;43mlist\u001b[39;49m\u001b[43m(\u001b[49m\u001b[43mi\u001b[49m\u001b[43m)\u001b[49m\n\u001b[0;32m      4\u001b[0m     \u001b[38;5;28mprint\u001b[39m(e)\n",
      "\u001b[1;31mTypeError\u001b[0m: 'list' object is not callable"
     ]
    }
   ],
   "source": [
    "a,b,c=map(int,input().split())\n",
    "for i in range(a,b,c):\n",
    "    e=list(i)\n",
    "    print(e)"
   ]
  },
  {
   "cell_type": "code",
   "execution_count": null,
   "metadata": {},
   "outputs": [
    {
     "name": "stdout",
     "output_type": "stream",
     "text": [
      "1,6,11,16,21,26,31,36,41,46,51,56,61,66,71,76,81,86,91,96,"
     ]
    }
   ],
   "source": [
    "a,b,c=map(int,input().split())\n",
    "for i in range(a,b,c):\n",
    "    print(i,end=\",\")"
   ]
  },
  {
   "cell_type": "code",
   "execution_count": null,
   "metadata": {},
   "outputs": [
    {
     "ename": "TypeError",
     "evalue": "'list' object is not callable",
     "output_type": "error",
     "traceback": [
      "\u001b[1;31m---------------------------------------------------------------------------\u001b[0m",
      "\u001b[1;31mTypeError\u001b[0m                                 Traceback (most recent call last)",
      "Cell \u001b[1;32mIn[84], line 3\u001b[0m\n\u001b[0;32m      1\u001b[0m a,b,c\u001b[38;5;241m=\u001b[39m\u001b[38;5;28mmap\u001b[39m(\u001b[38;5;28mint\u001b[39m,\u001b[38;5;28minput\u001b[39m()\u001b[38;5;241m.\u001b[39msplit())\n\u001b[0;32m      2\u001b[0m \u001b[38;5;28;01mfor\u001b[39;00m i \u001b[38;5;129;01min\u001b[39;00m \u001b[38;5;28mrange\u001b[39m(a,b,c):\n\u001b[1;32m----> 3\u001b[0m     \u001b[38;5;28mprint\u001b[39m(\u001b[38;5;28;43mlist\u001b[39;49m\u001b[43m(\u001b[49m\u001b[43mi\u001b[49m\u001b[43m)\u001b[49m)\n",
      "\u001b[1;31mTypeError\u001b[0m: 'list' object is not callable"
     ]
    }
   ],
   "source": [
    "a,b,c=map(int,input().split())\n",
    "for i in range(a,b,c):\n",
    "    print(list(i))"
   ]
  },
  {
   "cell_type": "code",
   "execution_count": 5,
   "metadata": {},
   "outputs": [
    {
     "ename": "TypeError",
     "evalue": "'str' object cannot be interpreted as an integer",
     "output_type": "error",
     "traceback": [
      "\u001b[1;31m---------------------------------------------------------------------------\u001b[0m",
      "\u001b[1;31mTypeError\u001b[0m                                 Traceback (most recent call last)",
      "Cell \u001b[1;32mIn[5], line 2\u001b[0m\n\u001b[0;32m      1\u001b[0m b,c,e\u001b[38;5;241m=\u001b[39m\u001b[38;5;28minput\u001b[39m()\u001b[38;5;241m.\u001b[39msplit()\n\u001b[1;32m----> 2\u001b[0m a\u001b[38;5;241m=\u001b[39m\u001b[38;5;28;43mrange\u001b[39;49m\u001b[43m(\u001b[49m\u001b[43mb\u001b[49m\u001b[43m,\u001b[49m\u001b[43mc\u001b[49m\u001b[43m,\u001b[49m\u001b[43me\u001b[49m\u001b[43m)\u001b[49m\n\u001b[0;32m      3\u001b[0m \u001b[38;5;28mprint\u001b[39m(\u001b[38;5;28mlist\u001b[39m(a))\n",
      "\u001b[1;31mTypeError\u001b[0m: 'str' object cannot be interpreted as an integer"
     ]
    }
   ],
   "source": [
    "b,c,e=input().split()\n",
    "a=range(b,c,e)\n",
    "print(list(a))"
   ]
  },
  {
   "cell_type": "code",
   "execution_count": null,
   "metadata": {},
   "outputs": [
    {
     "ename": "TypeError",
     "evalue": "'list' object is not callable",
     "output_type": "error",
     "traceback": [
      "\u001b[1;31m---------------------------------------------------------------------------\u001b[0m",
      "\u001b[1;31mTypeError\u001b[0m                                 Traceback (most recent call last)",
      "Cell \u001b[1;32mIn[108], line 2\u001b[0m\n\u001b[0;32m      1\u001b[0m a\u001b[38;5;241m=\u001b[39m\u001b[38;5;28mrange\u001b[39m(\u001b[38;5;241m1\u001b[39m,\u001b[38;5;241m100\u001b[39m,\u001b[38;5;241m5\u001b[39m)\n\u001b[1;32m----> 2\u001b[0m \u001b[38;5;28mprint\u001b[39m(\u001b[38;5;28;43mlist\u001b[39;49m\u001b[43m(\u001b[49m\u001b[43ma\u001b[49m\u001b[43m)\u001b[49m)\n",
      "\u001b[1;31mTypeError\u001b[0m: 'list' object is not callable"
     ]
    }
   ],
   "source": [
    "a=range(1,100,5)\n",
    "print(list(a))"
   ]
  },
  {
   "cell_type": "code",
   "execution_count": 12,
   "metadata": {},
   "outputs": [
    {
     "ename": "TypeError",
     "evalue": "'int' object is not iterable",
     "output_type": "error",
     "traceback": [
      "\u001b[1;31m---------------------------------------------------------------------------\u001b[0m",
      "\u001b[1;31mTypeError\u001b[0m                                 Traceback (most recent call last)",
      "Cell \u001b[1;32mIn[12], line 3\u001b[0m\n\u001b[0;32m      1\u001b[0m a,b,c\u001b[38;5;241m=\u001b[39m\u001b[38;5;28mmap\u001b[39m(\u001b[38;5;28mint\u001b[39m,\u001b[38;5;28minput\u001b[39m()\u001b[38;5;241m.\u001b[39msplit())\n\u001b[0;32m      2\u001b[0m \u001b[38;5;28;01mfor\u001b[39;00m i \u001b[38;5;129;01min\u001b[39;00m \u001b[38;5;28mrange\u001b[39m(a,b,c):\n\u001b[1;32m----> 3\u001b[0m     \u001b[38;5;28mprint\u001b[39m(\u001b[38;5;28;43mlist\u001b[39;49m\u001b[43m(\u001b[49m\u001b[43mi\u001b[49m\u001b[43m)\u001b[49m)\n",
      "\u001b[1;31mTypeError\u001b[0m: 'int' object is not iterable"
     ]
    }
   ],
   "source": [
    "a,b,c=map(int,input().split())\n",
    "for i in range(a,b,c):\n",
    "    print(list(i))"
   ]
  },
  {
   "cell_type": "code",
   "execution_count": 7,
   "metadata": {},
   "outputs": [
    {
     "name": "stdout",
     "output_type": "stream",
     "text": [
      "[1, 6, 11, 16, 21, 26, 31, 36, 41, 46, 51, 56, 61, 66, 71, 76, 81, 86, 91, 96]\n"
     ]
    }
   ],
   "source": [
    "a,b,c=map(int,input().split())\n",
    "d=list(range(a,b,c))\n",
    "print(d)"
   ]
  },
  {
   "cell_type": "code",
   "execution_count": 145,
   "metadata": {},
   "outputs": [
    {
     "ename": "ValueError",
     "evalue": "not enough values to unpack (expected 2, got 1)",
     "output_type": "error",
     "traceback": [
      "\u001b[1;31m---------------------------------------------------------------------------\u001b[0m",
      "\u001b[1;31mValueError\u001b[0m                                Traceback (most recent call last)",
      "Cell \u001b[1;32mIn[145], line 4\u001b[0m\n\u001b[0;32m      1\u001b[0m input_string \u001b[38;5;241m=\u001b[39m \u001b[38;5;28minput\u001b[39m(\u001b[38;5;124m\"\u001b[39m\u001b[38;5;124m請輸入字串和數字（用逗號分隔）：\u001b[39m\u001b[38;5;124m\"\u001b[39m)\n\u001b[0;32m      3\u001b[0m \u001b[38;5;66;03m# 分割輸入的字串\u001b[39;00m\n\u001b[1;32m----> 4\u001b[0m string_part, number_part \u001b[38;5;241m=\u001b[39m input_string\u001b[38;5;241m.\u001b[39msplit(\u001b[38;5;124m'\u001b[39m\u001b[38;5;124m,\u001b[39m\u001b[38;5;124m'\u001b[39m)\n\u001b[0;32m      6\u001b[0m \u001b[38;5;66;03m# 處理字串部分\u001b[39;00m\n\u001b[0;32m      7\u001b[0m strings \u001b[38;5;241m=\u001b[39m string_part\u001b[38;5;241m.\u001b[39msplit()\n",
      "\u001b[1;31mValueError\u001b[0m: not enough values to unpack (expected 2, got 1)"
     ]
    }
   ],
   "source": [
    "\n",
    "input_string = input(\"請輸入字串和數字（用逗號分隔）：\")\n",
    "\n",
    "# 分割輸入的字串\n",
    "string_part, number_part = input_string.split(',')\n",
    "\n",
    "# 處理字串部分\n",
    "strings = string_part.split()\n",
    "reversed_strings = ' '.join(reversed(strings))\n",
    "\n",
    "numbers = number_part.split()\n",
    "reversed_numbers = ' '.join(reversed(numbers))\n",
    "\n",
    "# 輸出結果\n",
    "print(f\"{reversed_strings}, {reversed_numbers}\")"
   ]
  },
  {
   "cell_type": "code",
   "execution_count": 146,
   "metadata": {},
   "outputs": [
    {
     "name": "stdout",
     "output_type": "stream",
     "text": [
      "cake banana apple\n"
     ]
    }
   ],
   "source": [
    "input_string = input(\"請輸入字串（用空格分隔）：\")\n",
    "words = input_string.split()\n",
    "reversed_words = ' '.join(reversed(words))\n",
    "print(reversed_words)"
   ]
  },
  {
   "cell_type": "code",
   "execution_count": 148,
   "metadata": {},
   "outputs": [
    {
     "name": "stdout",
     "output_type": "stream",
     "text": [
      "apple banana cake\n"
     ]
    }
   ],
   "source": [
    "input_data = input(\"請輸入資料（用空格分隔）：\")\n",
    "items = input_data.split()\n",
    "reversed_items = ' '.join(reversed(items))\n",
    "print(reversed_items)\n"
   ]
  },
  {
   "cell_type": "code",
   "execution_count": 149,
   "metadata": {},
   "outputs": [],
   "source": [
    "input_data = input(\"請輸入字串資料（用空格分隔）：\")\n",
    "items = input_data.split()\n",
    "reversed_items = ' '.join(reversed(items))\n",
    "print(reversed_items)"
   ]
  },
  {
   "cell_type": "code",
   "execution_count": 4,
   "metadata": {},
   "outputs": [
    {
     "name": "stdout",
     "output_type": "stream",
     "text": [
      "wemo people two , emo people one\n"
     ]
    }
   ],
   "source": [
    "input_data = input()\n",
    "items = input_data.split()\n",
    "reversed_items = ' '.join(reversed(items))\n",
    "print(reversed_items)"
   ]
  },
  {
   "cell_type": "code",
   "execution_count": 21,
   "metadata": {},
   "outputs": [
    {
     "name": "stdout",
     "output_type": "stream",
     "text": [
      "[1, 4, 7, 10, 13, 16, 19, 22, 25, 28, 31, 34, 37, 40, 43, 46, 49, 52, 55, 58, 61, 64, 67, 70, 73, 76, 79, 82, 85, 88, 91, 94, 97]\n"
     ]
    }
   ],
   "source": [
    "input_data = input(\"請輸入 range 的三個參數（起始值 終止值 間隔值）：\")\n",
    "start, stop, step = map(int, input_data.split())\n",
    "result_list = list(range(start, stop, step))\n",
    "print(result_list)"
   ]
  },
  {
   "cell_type": "code",
   "execution_count": 27,
   "metadata": {},
   "outputs": [
    {
     "name": "stdout",
     "output_type": "stream",
     "text": [
      "1 2 3 1 2 3 1 2 3\n"
     ]
    }
   ],
   "source": [
    "a=\"{0} {1} {2} {0} {1} {2} {0} {1} {2}\"\n",
    "b=a.format(1,2,3)\n",
    "print(b)"
   ]
  },
  {
   "cell_type": "code",
   "execution_count": 19,
   "metadata": {},
   "outputs": [
    {
     "name": "stdout",
     "output_type": "stream",
     "text": [
      "123\n"
     ]
    }
   ],
   "source": [
    "print(123)"
   ]
  },
  {
   "cell_type": "code",
   "execution_count": 28,
   "metadata": {},
   "outputs": [
    {
     "name": "stdout",
     "output_type": "stream",
     "text": [
      "4\n"
     ]
    }
   ],
   "source": [
    "a,b=map(int,input().split())\n",
    "gcd=1\n",
    "for i in range(1,a*b):\n",
    "    if(a%i==0 and b%i==0):\n",
    "        gcd=i\n",
    "print(gcd)"
   ]
  },
  {
   "cell_type": "code",
   "execution_count": 31,
   "metadata": {},
   "outputs": [
    {
     "name": "stdout",
     "output_type": "stream",
     "text": [
      "318\n"
     ]
    }
   ],
   "source": [
    "n=int(input())\n",
    "sum=0\n",
    "for i in range(1,n+1):\n",
    "    if(i%3==0 or i%7==0):\n",
    "        sum+=i\n",
    "print(sum)\n"
   ]
  },
  {
   "cell_type": "code",
   "execution_count": 34,
   "metadata": {},
   "outputs": [
    {
     "name": "stdout",
     "output_type": "stream",
     "text": [
      "* \n",
      "* * \n",
      "* * * \n",
      "* * * * \n",
      "* * * * * \n"
     ]
    }
   ],
   "source": [
    "n=int(input())\n",
    "for i in range(1,n+1):\n",
    "    for j in range(1,i+1):\n",
    "        print(\"*\",end=\"\")\n",
    "    print()\n"
   ]
  },
  {
   "cell_type": "code",
   "execution_count": 35,
   "metadata": {},
   "outputs": [
    {
     "name": "stdout",
     "output_type": "stream",
     "text": [
      "1\n",
      "2 3\n",
      "4 5 6\n",
      "7 8 9 10\n",
      "11 12 13 14 15\n"
     ]
    }
   ],
   "source": [
    "n = int(input(\"請輸入整數 n：\"))\n",
    "current_number = 1\n",
    "for i in range(1, n + 1):\n",
    "    print(' '.join(str(current_number + j) for j in range(i)))\n",
    "    current_number += i"
   ]
  },
  {
   "cell_type": "code",
   "execution_count": 36,
   "metadata": {},
   "outputs": [
    {
     "name": "stdout",
     "output_type": "stream",
     "text": [
      "1\n",
      "12\n",
      "123\n",
      "1234\n",
      "12345\n"
     ]
    }
   ],
   "source": [
    "n = int(input(\"請輸入整數 n：\"))\n",
    "for i in range(1, n + 1):\n",
    "    print(''.join(str(j) for j in range(1, i + 1)))"
   ]
  },
  {
   "cell_type": "code",
   "execution_count": 37,
   "metadata": {},
   "outputs": [
    {
     "name": "stdout",
     "output_type": "stream",
     "text": [
      "45\n"
     ]
    }
   ],
   "source": [
    "import math\n",
    "\n",
    "# 讓使用者在同一行輸入兩個整數\n",
    "input_data = input(\"請輸入兩個整數（用空格分隔）：\")\n",
    "\n",
    "# 將輸入的資料分隔成兩個整數\n",
    "a, b = map(int, input_data.split())\n",
    "\n",
    "# 計算最大公因數\n",
    "gcd = math.gcd(a, b)\n",
    "\n",
    "# 計算最小公倍數\n",
    "lcm = abs(a * b) // gcd\n",
    "\n",
    "# 輸出結果\n",
    "print(lcm)"
   ]
  },
  {
   "cell_type": "code",
   "execution_count": 38,
   "metadata": {},
   "outputs": [
    {
     "name": "stdout",
     "output_type": "stream",
     "text": [
      "148\n"
     ]
    }
   ],
   "source": [
    "import math\n",
    "input_data = input(\"請輸入兩個整數（用空格分隔）：\")\n",
    "a, b = map(int, input_data.split())\n",
    "gcd = math.gcd(a, b)\n",
    "lcm = abs(a * b) // gcd\n",
    "print(lcm)"
   ]
  },
  {
   "cell_type": "code",
   "execution_count": null,
   "metadata": {},
   "outputs": [],
   "source": [
    "# 讓使用者輸入字串\n",
    "input_string = input(\"請輸入字串：\")\n",
    "\n",
    "# 轉換字串，奇數位置大寫，偶數位置小寫\n",
    "converted_string = ''.join(\n",
    "    char.upper() if index % 2 == 0 else char.lower()\n",
    "    for index, char in enumerate(input_string)\n",
    ")\n",
    "\n",
    "# 輸出結果\n",
    "print(converted_string)"
   ]
  },
  {
   "cell_type": "code",
   "execution_count": 39,
   "metadata": {},
   "outputs": [
    {
     "name": "stdout",
     "output_type": "stream",
     "text": [
      "PyThOn\n"
     ]
    }
   ],
   "source": [
    "input_string = input(\"請輸入字串：\")\n",
    "converted_string = ''.join(\n",
    "    char.upper() if index % 2 == 0 else char.lower()\n",
    "    for index, char in enumerate(input_string)\n",
    ")\n",
    "print(converted_string)"
   ]
  },
  {
   "cell_type": "code",
   "execution_count": null,
   "metadata": {},
   "outputs": [],
   "source": [
    "# 讓使用者在同一行輸入三個整數\n",
    "input_data = input(\"請輸入三個整數（用空格分隔）：\")\n",
    "\n",
    "# 將輸入的資料分隔並轉換為整數\n",
    "a, b, c = map(int, input_data.split())\n",
    "\n",
    "# 判斷是否構成三角形\n",
    "if (a + b > c) and (a + c > b) and (b + c > a):\n",
    "    print(\"Valid\")\n",
    "else:\n",
    "    print(\"InValid\")"
   ]
  },
  {
   "cell_type": "code",
   "execution_count": 41,
   "metadata": {},
   "outputs": [
    {
     "name": "stdout",
     "output_type": "stream",
     "text": [
      "InValid\n"
     ]
    }
   ],
   "source": [
    "input_data = input(\"請輸入三個整數（用空格分隔）：\")\n",
    "a, b, c = map(int, input_data.split())\n",
    "if (a + b > c) and (a + c > b) and (b + c > a):\n",
    "    print(\"Valid\")\n",
    "else:\n",
    "    print(\"InValid\")"
   ]
  },
  {
   "cell_type": "code",
   "execution_count": 42,
   "metadata": {},
   "outputs": [
    {
     "name": "stdout",
     "output_type": "stream",
     "text": [
      "****\n",
      "total:4\n"
     ]
    }
   ],
   "source": [
    "# 讓使用者輸入密碼\n",
    "password = input(\"請輸入密碼：\")\n",
    "\n",
    "# 將每個字元轉換為 '*' 並換行輸出\n",
    "print('*' * len(password))\n",
    "\n",
    "# 輸出密碼的長度\n",
    "print(f\"total:{len(password)}\")"
   ]
  },
  {
   "cell_type": "code",
   "execution_count": 43,
   "metadata": {},
   "outputs": [
    {
     "name": "stdout",
     "output_type": "stream",
     "text": [
      "00:20:34\n"
     ]
    }
   ],
   "source": [
    "# 让用户输入秒数\n",
    "total_seconds = int(input(\"请输入秒数：\"))\n",
    "\n",
    "# 计算时、分、秒\n",
    "hours = total_seconds // 3600\n",
    "minutes = (total_seconds % 3600) // 60\n",
    "seconds = total_seconds % 60\n",
    "\n",
    "# 格式化输出，确保时、分、秒皆为两位数\n",
    "formatted_time = f\"{hours:02}:{minutes:02}:{seconds:02}\"\n",
    "\n",
    "# 输出结果\n",
    "print(formatted_time)"
   ]
  },
  {
   "cell_type": "code",
   "execution_count": 44,
   "metadata": {},
   "outputs": [
    {
     "name": "stdout",
     "output_type": "stream",
     "text": [
      "2004 年是閏年\n"
     ]
    }
   ],
   "source": [
    "# 讓使用者輸入西元年\n",
    "year = int(input())\n",
    "\n",
    "# 判斷是否為閏年的函數\n",
    "def is_leap_year(year):\n",
    "    # 判斷是否能被 4 整除但不能被 100 整除\n",
    "    if (year % 4 == 0 and year % 100 != 0) or (year % 400 == 0):\n",
    "        return True\n",
    "    else:\n",
    "        return False\n",
    "\n",
    "# 根據函數的結果輸出是閏年還是平年\n",
    "if is_leap_year(year):\n",
    "    print(f\"{year} 年是閏年\")\n",
    "else:\n",
    "    print(f\"{year} 年是平年\")"
   ]
  },
  {
   "cell_type": "code",
   "execution_count": 45,
   "metadata": {},
   "outputs": [
    {
     "name": "stdout",
     "output_type": "stream",
     "text": [
      "2003 is common year\n"
     ]
    }
   ],
   "source": [
    "# 讓使用者輸入西元年\n",
    "year = int(input())\n",
    "\n",
    "# 判斷是否為閏年的函數\n",
    "def is_leap_year(year):\n",
    "    # 判斷是否能被 4 整除但不能被 100 整除\n",
    "    if (year % 4 == 0 and year % 100 != 0) or (year % 400 == 0):\n",
    "        return True\n",
    "    else:\n",
    "        return False\n",
    "\n",
    "# 根據函數的結果輸出是閏年還是平年\n",
    "if is_leap_year(year):\n",
    "    print(f\"{year} is leap year\")\n",
    "else:\n",
    "    print(f\"{year} is common year\")"
   ]
  },
  {
   "cell_type": "code",
   "execution_count": 46,
   "metadata": {},
   "outputs": [
    {
     "name": "stdout",
     "output_type": "stream",
     "text": [
      "0\n"
     ]
    }
   ],
   "source": [
    "# 讓使用者輸入一個數字\n",
    "number = int(input(\"請輸入一個數字：\"))\n",
    "\n",
    "# 初始化總和\n",
    "total_sum = 0\n",
    "\n",
    "# 從15到輸入的數字之間遍歷\n",
    "for i in range(15, number + 1):\n",
    "    # 檢查是否為偶數\n",
    "    if i % 2 == 0:\n",
    "        total_sum += i\n",
    "\n",
    "# 輸出結果\n",
    "print(total_sum)"
   ]
  },
  {
   "cell_type": "code",
   "execution_count": 48,
   "metadata": {},
   "outputs": [
    {
     "name": "stdout",
     "output_type": "stream",
     "text": [
      "Ans ZXCVBNM\n"
     ]
    }
   ],
   "source": [
    "a=input()\n",
    "b='Ans {}'\n",
    "c=b.format(a)\n",
    "print(c)"
   ]
  },
  {
   "cell_type": "code",
   "execution_count": null,
   "metadata": {},
   "outputs": [],
   "source": [
    "a,b,c,d,e,f,g,h,i=map(int,input().split())\n",
    "j=a+b+c+d+e+f+g+h+i\n",
    "print(j)"
   ]
  },
  {
   "cell_type": "code",
   "execution_count": null,
   "metadata": {},
   "outputs": [],
   "source": [
    "a=input()\n",
    "b=len(a)\n",
    "print(b)"
   ]
  },
  {
   "cell_type": "code",
   "execution_count": null,
   "metadata": {},
   "outputs": [],
   "source": [
    "# 讓使用者輸入一個正整數 N\n",
    "N = int(input(\"請輸入正整數 N：\"))\n",
    "\n",
    "# 計算從 10 到 N 之間所有正整數的和\n",
    "total_sum = sum(range(10, N + 1))\n",
    "\n",
    "# 輸出結果\n",
    "print(total_sum)"
   ]
  },
  {
   "cell_type": "code",
   "execution_count": 54,
   "metadata": {},
   "outputs": [
    {
     "name": "stdout",
     "output_type": "stream",
     "text": [
      "34.6 is normal\n"
     ]
    }
   ],
   "source": [
    "a=float(input())\n",
    "if  a>=37.5 :\n",
    "    c=\"{} is over\"\n",
    "    d=c.format(a)\n",
    "    print(d)\n",
    "elif (a<=37.4) and (a>=37) :\n",
    "    e=\"{} is little over\"\n",
    "    f=e.format(a)\n",
    "    print(f)\n",
    "elif (a<=36.9)  and (a>=34) :\n",
    "    g=\"{} is normal\"\n",
    "    h=g.format(a)\n",
    "    print(h)\n",
    "else :\n",
    "    a<=33.9\n",
    "    i=\"{} is error\"\n",
    "    j=i.format(a)\n",
    "    print(j)"
   ]
  },
  {
   "cell_type": "code",
   "execution_count": 58,
   "metadata": {},
   "outputs": [
    {
     "name": "stdout",
     "output_type": "stream",
     "text": [
      "54 is E\n"
     ]
    }
   ],
   "source": [
    "a=int(input())\n",
    "if  a>100 :\n",
    "    c=\"{} is error\"\n",
    "    d=c.format(a)\n",
    "    print(d)\n",
    "elif (a<=100) and (a>=90) :\n",
    "    e=\"{} is A\"\n",
    "    f=e.format(a)\n",
    "    print(f)\n",
    "elif (a<=89)  and (a>=80) :\n",
    "    g=\"{} is B\"\n",
    "    h=g.format(a)\n",
    "    print(h)\n",
    "elif (a<=79)  and (a>=70) :\n",
    "    K=\"{} is C\"\n",
    "    L=K.format(a)\n",
    "    print(L)\n",
    "elif (a<=69)  and (a>=60) :\n",
    "    M=\"{} is D\"\n",
    "    N=M.format(a)\n",
    "    print(N)\n",
    "elif (a<=59)  and (a>=0) :\n",
    "    O=\"{} is E\"\n",
    "    P=O.format(a)\n",
    "    print(P)\n",
    "else :\n",
    "    a<=0\n",
    "    i=\"{} is error\"\n",
    "    j=i.format(a)\n",
    "    print(j)"
   ]
  },
  {
   "cell_type": "code",
   "execution_count": 62,
   "metadata": {},
   "outputs": [
    {
     "name": "stdout",
     "output_type": "stream",
     "text": [
      "7 is summer\n"
     ]
    }
   ],
   "source": [
    "a=int(input())\n",
    "if  a>13 :\n",
    "    c=\"{} is error\"\n",
    "    d=c.format(a)\n",
    "    print(d)\n",
    "elif (a<=5) and (a>=3) :\n",
    "    e=\"{} is spring\"\n",
    "    f=e.format(a)\n",
    "    print(f)\n",
    "elif (a<=8)  and (a>=6) :\n",
    "    g=\"{} is summer\"\n",
    "    h=g.format(a)\n",
    "    print(h)\n",
    "elif (a<=11)  and (a>=9) :\n",
    "    K=\"{} is autumn\"\n",
    "    L=K.format(a)\n",
    "    print(L)\n",
    "elif (a==12,1,2) :\n",
    "    M=\"{} is winter\"\n",
    "    N=M.format(a)\n",
    "    print(N)\n",
    "else :\n",
    "    a<1\n",
    "    i=\"{} is error\"\n",
    "    j=i.format(a)\n",
    "    print(j)"
   ]
  },
  {
   "cell_type": "code",
   "execution_count": 65,
   "metadata": {},
   "outputs": [
    {
     "name": "stdout",
     "output_type": "stream",
     "text": [
      "2 is winter\n"
     ]
    }
   ],
   "source": [
    "a=int(input())\n",
    "if  a>=13 :\n",
    "    print(\"input error\")\n",
    "elif (a<=5) and (a>=3) :\n",
    "    e=\"{} is spring\"\n",
    "    f=e.format(a)\n",
    "    print(f)\n",
    "elif (a<=8)  and (a>=6) :\n",
    "    g=\"{} is summer\"\n",
    "    h=g.format(a)\n",
    "    print(h)\n",
    "elif (a<=11)  and (a>=9) :\n",
    "    K=\"{} is autumn\"\n",
    "    L=K.format(a)\n",
    "    print(L)\n",
    "elif (a==12,1,2) :\n",
    "    M=\"{} is winter\"\n",
    "    N=M.format(a)\n",
    "    print(N)\n",
    "else :\n",
    "    a<1\n",
    "    print(\"input error\")"
   ]
  },
  {
   "cell_type": "code",
   "execution_count": 64,
   "metadata": {},
   "outputs": [
    {
     "name": "stdout",
     "output_type": "stream",
     "text": [
      "2 is winter\n"
     ]
    }
   ],
   "source": [
    "a=int(input())\n",
    "if  a>12 :\n",
    "    print(\"input error\")\n",
    "elif (a<=5) and (a>=3) :\n",
    "    e=\"{} is spring\"\n",
    "    f=e.format(a)\n",
    "    print(f)\n",
    "elif (a<=8)  and (a>=6) :\n",
    "    g=\"{} is summer\"\n",
    "    h=g.format(a)\n",
    "    print(h)\n",
    "elif (a<=11)  and (a>=9) :\n",
    "    K=\"{} is autumn\"\n",
    "    L=K.format(a)\n",
    "    print(L)\n",
    "elif (a==12)or(a==1)or(a==2) :\n",
    "    M=\"{} is winter\"\n",
    "    N=M.format(a)\n",
    "    print(N)\n",
    "else :\n",
    "    a<1\n",
    "    print(\"input error\")"
   ]
  },
  {
   "cell_type": "code",
   "execution_count": 70,
   "metadata": {},
   "outputs": [
    {
     "name": "stdout",
     "output_type": "stream",
     "text": [
      "pay 7037036.7 money\n"
     ]
    }
   ],
   "source": [
    "a=eval(input())\n",
    "if  a>2000000 :\n",
    "    c=\"pay {} money\"\n",
    "    d=c.format(a*0.3)\n",
    "    print(d)\n",
    "elif (a<=1999999) and (a>=1000000) :\n",
    "    e=\"pay {} money\"\n",
    "    f=e.format(a*0.21)\n",
    "    print(f)\n",
    "elif (a<=999999)  and (a>=600000) :\n",
    "    g=\"pay {} money\"\n",
    "    h=g.format(a*0.13)\n",
    "    print(h)\n",
    "elif (a<=599999)  and (a>=300000) :\n",
    "    K=\"pay {} money\"\n",
    "    L=K.format(a*0.16)\n",
    "    print(L)\n",
    "else :\n",
    "    i=\"pay {} money\"\n",
    "    j=i.format(a)\n",
    "    print(j)"
   ]
  },
  {
   "cell_type": "code",
   "execution_count": null,
   "metadata": {},
   "outputs": [],
   "source": []
  },
  {
   "cell_type": "code",
   "execution_count": null,
   "metadata": {},
   "outputs": [],
   "source": []
  }
 ],
 "metadata": {
  "kernelspec": {
   "display_name": "Python 3",
   "language": "python",
   "name": "python3"
  },
  "language_info": {
   "codemirror_mode": {
    "name": "ipython",
    "version": 3
   },
   "file_extension": ".py",
   "mimetype": "text/x-python",
   "name": "python",
   "nbconvert_exporter": "python",
   "pygments_lexer": "ipython3",
   "version": "3.12.4"
  }
 },
 "nbformat": 4,
 "nbformat_minor": 2
}
