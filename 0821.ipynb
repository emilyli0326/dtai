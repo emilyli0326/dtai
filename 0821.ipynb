{
 "cells": [
  {
   "cell_type": "code",
   "execution_count": 1,
   "metadata": {},
   "outputs": [
    {
     "data": {
      "text/plain": [
       "123"
      ]
     },
     "execution_count": 1,
     "metadata": {},
     "output_type": "execute_result"
    }
   ],
   "source": [
    "123"
   ]
  },
  {
   "cell_type": "code",
   "execution_count": 2,
   "metadata": {},
   "outputs": [
    {
     "name": "stdout",
     "output_type": "stream",
     "text": [
      "打折95%折 is 11727.75\n"
     ]
    }
   ],
   "source": [
    "def calculate_discounted_price(amount):\n",
    "    # 確定折扣和打折後價格\n",
    "    if amount >= 100000:\n",
    "        discount = 0.8\n",
    "        discount_percentage = \"80%\"\n",
    "    elif amount >= 50000:\n",
    "        discount = 0.85\n",
    "        discount_percentage = \"85%\"\n",
    "    elif amount >= 30000:\n",
    "        discount = 0.9\n",
    "        discount_percentage = \"90%\"\n",
    "    elif amount >= 10000:\n",
    "        discount = 0.95\n",
    "        discount_percentage = \"95%\"\n",
    "    else:\n",
    "        discount = 1.0\n",
    "        discount_percentage = None\n",
    "\n",
    "    # 計算打折後的價格\n",
    "    discounted_price = amount * discount\n",
    "\n",
    "    # 輸出結果\n",
    "    if discount_percentage:\n",
    "        print(f\"打折{discount_percentage}折 is {discounted_price:.2f}\")\n",
    "    else:\n",
    "        print(f\"no discount is {amount:.2f}\")\n",
    "\n",
    "# 讓使用者輸入消費金額\n",
    "try:\n",
    "    amount = int(input(\"請輸入購物金額: \"))\n",
    "    if amount < 0:\n",
    "        raise ValueError(\"消費金額不能為負數\")\n",
    "    calculate_discounted_price(amount)\n",
    "except ValueError as e:\n",
    "    print(f\"輸入錯誤: {e}\")"
   ]
  },
  {
   "cell_type": "code",
   "execution_count": 11,
   "metadata": {},
   "outputs": [
    {
     "name": "stdout",
     "output_type": "stream",
     "text": [
      "95% discount is 28499.05\n"
     ]
    }
   ],
   "source": [
    "a=int(input())\n",
    "if  a>=100000 :\n",
    "    c=\"80% discount is {} \"\n",
    "    d=c.format(a*0.8)\n",
    "    print(d)\n",
    "elif (a<=99999) and (a>=50000) :\n",
    "    e=\"85% discount is {}\"\n",
    "    f=e.format(a*0.85)\n",
    "    print(f)\n",
    "elif (a<=49999)  and (a>=30000) :\n",
    "    g=\"90% discount is {}\"\n",
    "    h=g.format(a*0.9)\n",
    "    print(h)\n",
    "elif (a<=29999)  and (a>=10000) :\n",
    "    K=\"95% discount is {}\"\n",
    "    L=K.format(a*0.95)\n",
    "    print(L)\n",
    "else :\n",
    "    i=\"no discount is {}\"\n",
    "    j=i.format(a)\n",
    "    print(j)"
   ]
  },
  {
   "cell_type": "code",
   "execution_count": 12,
   "metadata": {},
   "outputs": [
    {
     "name": "stdout",
     "output_type": "stream",
     "text": [
      "1,3,5,7,9,"
     ]
    }
   ],
   "source": [
    "a,b,c=map(int,input().split())\n",
    "for i in range(a,b,c):\n",
    "    print(i,end=\",\")"
   ]
  },
  {
   "cell_type": "code",
   "execution_count": null,
   "metadata": {},
   "outputs": [],
   "source": []
  },
  {
   "cell_type": "code",
   "execution_count": null,
   "metadata": {},
   "outputs": [],
   "source": [
    "def is_valid_isosceles_triangle(a, b, c):\n",
    "    # 判斷是否為有效三角形\n",
    "    def is_valid_triangle(x, y, z):\n",
    "        return x + y > z and x + z > y and y + z > x\n",
    "\n",
    "    # 判斷是否為等腰三角形\n",
    "    if is_valid_triangle(a, b, c):\n",
    "        return a == b or b == c or a == c\n",
    "    return False\n",
    "\n",
    "def main():\n",
    "    try:\n",
    "        # 讓使用者輸入三個數\n",
    "        sides = input().split()\n",
    "        if len(sides) != 3:\n",
    "            raise ValueError(\"必須輸入三個數\")\n",
    "\n",
    "        # 將輸入轉換為整數\n",
    "        a, b, c = map(int, sides)\n",
    "\n",
    "        # 判斷是否構成等腰三角形\n",
    "        if is_valid_isosceles_triangle(a, b, c):\n",
    "            print(\"Valid\")\n",
    "        else:\n",
    "            print(\"Invalid\")\n",
    "    \n",
    "    except ValueError as e:\n",
    "        print(f\"輸入錯誤: {e}\")\n"
   ]
  },
  {
   "cell_type": "code",
   "execution_count": null,
   "metadata": {},
   "outputs": [
    {
     "name": "stdout",
     "output_type": "stream",
     "text": [
      "sum:29\n",
      "squ:5.385164807134504\n",
      "squi:5\n",
      "squi is odd\n"
     ]
    }
   ],
   "source": [
    "a,b,c,d,e,f,g,h,i=map(int,input().split())\n",
    "sum=a+b+c+d+e+f+g+h+i\n",
    "squ=sum**0.5\n",
    "squi=int(squ)\n",
    "j=\"sum:{}\\nsqu:{}\\nsqui:{}\"\n",
    "k=j.format(sum,squ,squi)\n",
    "print(k)\n",
    "if squi%2==0:\n",
    "    print(\"squi is even\")\n",
    "else :\n",
    "    print(\"squi is odd\")"
   ]
  },
  {
   "cell_type": "code",
   "execution_count": 20,
   "metadata": {},
   "outputs": [
    {
     "name": "stdout",
     "output_type": "stream",
     "text": [
      "Invalid\n"
     ]
    }
   ],
   "source": [
    "a,b,c=map(int,input().split())\n",
    "if a==b or a==c or b==c:\n",
    "    print(\"Valid\")\n",
    "else:\n",
    "    print(\"Invalid\")"
   ]
  },
  {
   "cell_type": "code",
   "execution_count": 64,
   "metadata": {},
   "outputs": [
    {
     "name": "stdout",
     "output_type": "stream",
     "text": [
      "park time:7h:36m\n",
      "pay:300 money\n"
     ]
    }
   ],
   "source": [
    "a=int(input())\n",
    "b=a%60\n",
    "c=a//60\n",
    "j=\"park time:{}h:{}m\"\n",
    "k=j.format(c,b)\n",
    "print(k)\n",
    "if (b<60) and (c==0):\n",
    "    print(\"pay:20 money\")\n",
    "elif (b==0) and (c>=1) and(c<8):\n",
    "    d=40*c\n",
    "    f=\"pay:{} money\"\n",
    "    g=f.format(d)\n",
    "    print(g)\n",
    "elif (b>0) and (c>=1) and (c<7):\n",
    "    e=20+40*c\n",
    "    h=\"pay:{} money\"\n",
    "    i=h.format(e)\n",
    "    print(i)\n",
    "else:\n",
    "    print(\"pay:300 money\")    "
   ]
  },
  {
   "cell_type": "code",
   "execution_count": 68,
   "metadata": {},
   "outputs": [
    {
     "name": "stdout",
     "output_type": "stream",
     "text": [
      "153\n"
     ]
    }
   ],
   "source": [
    "def is_narcissistic_number(num):\n",
    "    \"\"\"檢查是否為水仙花數\"\"\"\n",
    "    if 100 <= num <= 999:\n",
    "        hundreds = num // 100\n",
    "        tens = (num // 10) % 10\n",
    "        ones = num % 10\n",
    "        return (hundreds**3 + tens**3 + ones**3) == num\n",
    "    return False\n",
    "\n",
    "def find_narcissistic_numbers(start, end):\n",
    "    \"\"\"找出範圍內的水仙花數\"\"\"\n",
    "    return [num for num in range(start, end + 1) if is_narcissistic_number(num)]\n",
    "\n",
    "def main():\n",
    "    try:\n",
    "        # 讓使用者輸入起始值和終止值\n",
    "        input_data = input(\"請輸入起始值和終止值 (用空格分隔): \").split()\n",
    "        if len(input_data) != 2:\n",
    "            raise ValueError(\"必須輸入兩個數字\")\n",
    "        \n",
    "        start = int(input_data[0])\n",
    "        end = int(input_data[1])\n",
    "        \n",
    "        if start < 100 or end > 999:\n",
    "            raise ValueError(\"起始值和終止值必須在100到999之間\")\n",
    "        \n",
    "        if start > end:\n",
    "            raise ValueError(\"起始值不能大於終止值\")\n",
    "\n",
    "        # 找出範圍內的水仙花數\n",
    "        narcissistic_numbers = find_narcissistic_numbers(start, end)\n",
    "        \n",
    "        # 輸出結果\n",
    "        print(\",\".join(map(str, narcissistic_numbers)))\n",
    "    \n",
    "    except ValueError as e:\n",
    "        print(f\"輸入錯誤: {e}\")\n",
    "\n",
    "# 執行程式\n",
    "if __name__ == \"__main__\":\n",
    "    main()"
   ]
  },
  {
   "cell_type": "code",
   "execution_count": 69,
   "metadata": {},
   "outputs": [
    {
     "name": "stdout",
     "output_type": "stream",
     "text": [
      "(153,)\n"
     ]
    }
   ],
   "source": [
    "def is_narcissistic_number(num):\n",
    "    \"\"\"檢查一個三位數是否為水仙花數\"\"\"\n",
    "    if 100 <= num <= 999:\n",
    "        hundreds = num // 100\n",
    "        tens = (num // 10) % 10\n",
    "        ones = num % 10\n",
    "        return (hundreds**3 + tens**3 + ones**3) == num\n",
    "    return False\n",
    "\n",
    "def find_narcissistic_numbers(start, end):\n",
    "    \"\"\"找出範圍內的水仙花數\"\"\"\n",
    "    return [num for num in range(start, end + 1) if is_narcissistic_number(num)]\n",
    "\n",
    "def main():\n",
    "    try:\n",
    "        # 讓使用者輸入起始值和終止值\n",
    "        input_data = input(\"請輸入起始值和終止值 (用空格分隔): \").split()\n",
    "        if len(input_data) != 2:\n",
    "            raise ValueError(\"必須輸入兩個數字\")\n",
    "        \n",
    "        start = int(input_data[0])\n",
    "        end = int(input_data[1])\n",
    "        \n",
    "        if start < 100 or end > 999:\n",
    "            raise ValueError(\"起始值和終止值必須在100到999之間\")\n",
    "        \n",
    "        if start > end:\n",
    "            raise ValueError(\"起始值不能大於終止值\")\n",
    "\n",
    "        # 找出範圍內的水仙花數\n",
    "        narcissistic_numbers = find_narcissistic_numbers(start, end)\n",
    "        \n",
    "        # 輸出結果，數字用逗號分隔，並包裹在括號內\n",
    "        print(f\"({','.join(map(str, narcissistic_numbers))},)\")\n",
    "    \n",
    "    except ValueError as e:\n",
    "        print(f\"輸入錯誤: {e}\")\n",
    "\n",
    "# 執行程式\n",
    "if __name__ == \"__main__\":\n",
    "    main()"
   ]
  },
  {
   "cell_type": "code",
   "execution_count": null,
   "metadata": {},
   "outputs": [],
   "source": []
  }
 ],
 "metadata": {
  "kernelspec": {
   "display_name": "Python 3",
   "language": "python",
   "name": "python3"
  },
  "language_info": {
   "codemirror_mode": {
    "name": "ipython",
    "version": 3
   },
   "file_extension": ".py",
   "mimetype": "text/x-python",
   "name": "python",
   "nbconvert_exporter": "python",
   "pygments_lexer": "ipython3",
   "version": "3.12.4"
  }
 },
 "nbformat": 4,
 "nbformat_minor": 2
}
