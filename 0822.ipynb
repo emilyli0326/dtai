{
 "cells": [
  {
   "cell_type": "code",
   "execution_count": 5,
   "metadata": {},
   "outputs": [
    {
     "name": "stdout",
     "output_type": "stream",
     "text": [
      "2.5\n"
     ]
    }
   ],
   "source": [
    "a=float(input())\n",
    "b=float(input())\n",
    "c=a%b\n",
    "print(c)"
   ]
  },
  {
   "cell_type": "code",
   "execution_count": 13,
   "metadata": {},
   "outputs": [
    {
     "name": "stdout",
     "output_type": "stream",
     "text": [
      "park time:4h:29m\n",
      "pay:180 money\n"
     ]
    }
   ],
   "source": [
    "a=int(input())\n",
    "b=a//60\n",
    "c=a%60\n",
    "d=\"park time:{}h:{}m\"\n",
    "e=d.format(b,c)\n",
    "print(e)\n",
    "if (c<60)and(b==0):\n",
    "    print(\"pay:20 money\")\n",
    "elif (b>=1)and(c>0)and(b<7):\n",
    "    h=20+40*b\n",
    "    f=\"pay:{} money\"\n",
    "    g=f.format(h)\n",
    "    print(g)\n",
    "elif (b>=1)and(c==0)and(b<8):\n",
    "    i=40*b\n",
    "    j=\"pay:{} money\"\n",
    "    k=j.format(i)\n",
    "    print(k)\n",
    "else:\n",
    "    print(\"pay:300 money\")"
   ]
  },
  {
   "cell_type": "code",
   "execution_count": 14,
   "metadata": {},
   "outputs": [
    {
     "name": "stdout",
     "output_type": "stream",
     "text": [
      "[3, 4, 5, 6, 7]\n"
     ]
    }
   ],
   "source": [
    "a,b,c=map(int,input().split())\n",
    "d=list(range(a,b,c))\n",
    "print(d)"
   ]
  },
  {
   "cell_type": "code",
   "execution_count": 15,
   "metadata": {},
   "outputs": [
    {
     "name": "stdout",
     "output_type": "stream",
     "text": [
      "2100 is common year\n"
     ]
    }
   ],
   "source": [
    "a=int(input())\n",
    "if (a%4==0)and(a%100!=0):\n",
    "    b=\"{} is leap year\"\n",
    "    c=b.format(a)\n",
    "    print(c)\n",
    "elif (a%100==0)and(a%400==0):\n",
    "    b=\"{} is leap year\"\n",
    "    c=b.format(a)\n",
    "    print(c)\n",
    "else:\n",
    "    d=\"{} is common year\"\n",
    "    e=d.format(a)\n",
    "    print(e)\n"
   ]
  },
  {
   "cell_type": "code",
   "execution_count": 16,
   "metadata": {},
   "outputs": [
    {
     "name": "stdout",
     "output_type": "stream",
     "text": [
      "50 is E\n"
     ]
    }
   ],
   "source": [
    "a=int(input())\n",
    "if (a<=100)and(a>=90):\n",
    "    b=\"{} is A\"\n",
    "    c=b.format(a)\n",
    "    print(c)\n",
    "elif (a<90)and(a>=80):\n",
    "    d=\"{} is B\"\n",
    "    e=d.format(a)\n",
    "    print(e)\n",
    "elif (a<80)and(a>=70):\n",
    "    f=\"{} is C\"\n",
    "    g=f.format(a)\n",
    "    print(g)\n",
    "elif (a<70)and(a>=60):\n",
    "    h=\"{} is D\"\n",
    "    i=h.format(a)\n",
    "    print(i)\n",
    "elif (a<60)and(a>=0):\n",
    "    j=\"{} is E\"\n",
    "    k=j.format(a)\n",
    "    print(k)\n",
    "else :\n",
    "    l=\"{} is error\"\n",
    "    m=l.format(a)\n",
    "    print(m)\n"
   ]
  },
  {
   "cell_type": "code",
   "execution_count": 17,
   "metadata": {},
   "outputs": [
    {
     "name": "stdout",
     "output_type": "stream",
     "text": [
      "0,5,10,15,20,25,30,35,40,45,50,55,60,65,70,75,80,85,90,95,"
     ]
    }
   ],
   "source": [
    "a,b,c=map(int,input().split())\n",
    "for i in range(a,b,c):\n",
    "    print(i,end=\",\")"
   ]
  },
  {
   "cell_type": "code",
   "execution_count": 19,
   "metadata": {},
   "outputs": [
    {
     "name": "stdout",
     "output_type": "stream",
     "text": [
      "*\n",
      "**\n",
      "***\n",
      "****\n",
      "*****\n"
     ]
    }
   ],
   "source": [
    "n=int(input())\n",
    "for i in range(1,n+1):\n",
    "    for j in range(1,i+1):\n",
    "        print(\"*\",end=\"\")\n",
    "    print()"
   ]
  },
  {
   "cell_type": "code",
   "execution_count": 20,
   "metadata": {},
   "outputs": [
    {
     "name": "stdout",
     "output_type": "stream",
     "text": [
      "4*1=4 4*2=8 4*3=12 4*4=16 4*5=20 4*6=24 4*7=28 4*8=32 4*9=36 \n",
      "5*1=5 5*2=10 5*3=15 5*4=20 5*5=25 5*6=30 5*7=35 5*8=40 5*9=45 \n",
      "6*1=6 6*2=12 6*3=18 6*4=24 6*5=30 6*6=36 6*7=42 6*8=48 6*9=54 \n",
      "7*1=7 7*2=14 7*3=21 7*4=28 7*5=35 7*6=42 7*7=49 7*8=56 7*9=63 \n",
      "8*1=8 8*2=16 8*3=24 8*4=32 8*5=40 8*6=48 8*7=56 8*8=64 8*9=72 \n",
      "9*1=9 9*2=18 9*3=27 9*4=36 9*5=45 9*6=54 9*7=63 9*8=72 9*9=81 \n"
     ]
    }
   ],
   "source": [
    "n=int(input())\n",
    "for j in range(n,10) :\n",
    "    for i in range(1,10) :\n",
    "        k=i*j\n",
    "        print(\"%d*%d=%d\" % (j,i,k), end=\" \",)\n",
    "    print()"
   ]
  },
  {
   "cell_type": "code",
   "execution_count": null,
   "metadata": {},
   "outputs": [],
   "source": []
  },
  {
   "cell_type": "code",
   "execution_count": null,
   "metadata": {},
   "outputs": [],
   "source": []
  },
  {
   "cell_type": "code",
   "execution_count": 25,
   "metadata": {},
   "outputs": [
    {
     "name": "stdout",
     "output_type": "stream",
     "text": [
      "t=2.0\n",
      "b=5.0\n",
      "h=4.8\n",
      "area=16.8\n"
     ]
    }
   ],
   "source": [
    "t=float(input())\n",
    "b=float(input())\n",
    "h=float(input())\n",
    "area=(t+b)*h/2\n",
    "e=\"t={} b={} h={} area={}\"\n",
    "f=e.format(t,b,h,area)\n",
    "print(f)"
   ]
  },
  {
   "cell_type": "code",
   "execution_count": 31,
   "metadata": {},
   "outputs": [
    {
     "name": "stdout",
     "output_type": "stream",
     "text": [
      "370,371,407,\n"
     ]
    }
   ],
   "source": [
    "start, end = map(int, input().split())\n",
    "narcissistic_numbers = []\n",
    "for num in range(start, end + 1):\n",
    "    hundreds = num // 100\n",
    "    tens = (num // 10) % 10\n",
    "    ones = num % 10\n",
    "    sum_of_cubes = hundreds**3 + tens**3 + ones**3\n",
    "    if sum_of_cubes == num:\n",
    "        narcissistic_numbers.append(num)\n",
    "print(','.join(map(str, narcissistic_numbers)) + ',')"
   ]
  },
  {
   "cell_type": "code",
   "execution_count": 34,
   "metadata": {},
   "outputs": [
    {
     "name": "stdout",
     "output_type": "stream",
     "text": [
      "153,"
     ]
    }
   ],
   "source": [
    "a,b=map(int,input().split())\n",
    "for i in range(a,b):\n",
    "    hundreds = i // 100\n",
    "    tens = (i // 10) % 10\n",
    "    ones = i % 10\n",
    "    sum_of_cubes = hundreds**3 + tens**3 + ones**3\n",
    "    if sum_of_cubes==i:\n",
    "        print(sum_of_cubes,end=\",\")"
   ]
  },
  {
   "cell_type": "code",
   "execution_count": null,
   "metadata": {},
   "outputs": [],
   "source": []
  }
 ],
 "metadata": {
  "kernelspec": {
   "display_name": "Python 3",
   "language": "python",
   "name": "python3"
  },
  "language_info": {
   "codemirror_mode": {
    "name": "ipython",
    "version": 3
   },
   "file_extension": ".py",
   "mimetype": "text/x-python",
   "name": "python",
   "nbconvert_exporter": "python",
   "pygments_lexer": "ipython3",
   "version": "3.12.4"
  }
 },
 "nbformat": 4,
 "nbformat_minor": 2
}
